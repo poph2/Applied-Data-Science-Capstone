{
 "cells": [
  {
   "cell_type": "markdown",
   "metadata": {},
   "source": [
    "# 1. Introduction\n",
    "\n",
    "## 1.1 Description of the Problem\n",
    "\n",
    "Calgary, a cosmopolitan Alberta city with numerous skyscrapers, owes its rapid growth to its status as the centre of Canada’s oil industry. However, it’s still steeped in the western culture that earned it the nickname “Cowtown,” evident in the Calgary Stampede, its massive July rodeo and festival that grew out of the farming exhibitions once presented here.\n",
    "\n",
    "\n",
    "## 1.2 Discussion of the Background\n",
    "\n",
    "My client runs a successful restaurant chain in the Eastern Region of Canada with 5 restaurants spread between Ottawa, Toronto and  a Montreal now wants to explore the western restaurant market and has decided to start with the City of Calgary.\n",
    "\n",
    "As a restaurant owner, it is important that your business is not too close to competitors while ensuring that it is also close to major attractions in the city. Therefore, my client wants to know the best are to locate the new restaurant that will be have the least competition and the most attractions.\n",
    "\n",
    "\n",
    "## 1.3 Target Audience\n",
    "\n",
    "\n",
    "This project is to anyone that wants to set up business in Calgary and will like to know what the competition hotspot is like around the city.\n",
    "\n",
    "\n",
    "\n",
    "# 2. Data\n",
    "\n",
    "This project relies on public data from Wikipedia and Foursquare.\n",
    "\n",
    "The neighbourhoods in Calgary is gotten from the Wikipedia page \"https://en.wikipedia.org/wiki/List_of_neighbourhoods_in_Calgary\" which serves as the foundation for the analysis.\n",
    "\n",
    "Data about venues in Calgary were gotten from the FourSquare API. Additional analysis was performed by my client to provide a weighted rank of how much competition or attract a venue type is on a scale of 1-10.\n",
    "\n",
    "For example, an hotel has a higher rank of attraction (10) and a minimal rank of competition (1) giving it a total weight of 9 (10-1).\n",
    "\n",
    "However, a Pizza Place is a direct competitor and has a lower attraction rank of (3) and a medium competition rank of (6), giving it a total weight of -3 (3-6).\n",
    "\n",
    "The expectation is that for a cluster of venues, we take the average of all venue weights and the cluster with the highest average weight is the best location for our restaurant.\n"
   ]
  },
  {
   "cell_type": "code",
   "execution_count": null,
   "metadata": {},
   "outputs": [],
   "source": []
  }
 ],
 "metadata": {
  "kernelspec": {
   "display_name": "Python 3",
   "language": "python",
   "name": "python3"
  },
  "language_info": {
   "codemirror_mode": {
    "name": "ipython",
    "version": 3
   },
   "file_extension": ".py",
   "mimetype": "text/x-python",
   "name": "python",
   "nbconvert_exporter": "python",
   "pygments_lexer": "ipython3",
   "version": "3.6.7"
  }
 },
 "nbformat": 4,
 "nbformat_minor": 2
}
